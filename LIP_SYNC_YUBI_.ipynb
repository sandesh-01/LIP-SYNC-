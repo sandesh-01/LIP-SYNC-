{
  "cells": [
    {
      "cell_type": "code",
      "execution_count": 1,
      "metadata": {
        "colab": {
          "base_uri": "https://localhost:8080/"
        },
        "id": "-mEKg0ekM3s2",
        "outputId": "79a37732-b32a-491c-8b8e-f953f351a0a1"
      },
      "outputs": [
        {
          "name": "stdout",
          "output_type": "stream",
          "text": [
            "Cloning into 'Wav2Lip'...\n",
            "remote: Enumerating objects: 403, done.\u001b[K\n",
            "remote: Counting objects: 100% (18/18), done.\u001b[K\n",
            "remote: Compressing objects: 100% (17/17), done.\u001b[K\n",
            "remote: Total 403 (delta 14), reused 1 (delta 1), pack-reused 385 (from 4)\u001b[K\n",
            "Receiving objects: 100% (403/403), 540.95 KiB | 2.24 MiB/s, done.\n",
            "Resolving deltas: 100% (224/224), done.\n"
          ]
        }
      ],
      "source": [
        "!git clone https://github.com/Rudrabha/Wav2Lip.git"
      ]
    },
    {
      "cell_type": "code",
      "execution_count": 8,
      "metadata": {
        "colab": {
          "base_uri": "https://localhost:8080/"
        },
        "id": "VP9xOfiLQs4a",
        "outputId": "28f9c6cf-d2be-4b8d-d46b-fda5134ebc8d"
      },
      "outputs": [
        {
          "name": "stdout",
          "output_type": "stream",
          "text": [
            "/content/Wav2Lip\n"
          ]
        }
      ],
      "source": [
        "cd Wav2Lip\n"
      ]
    },
    {
      "cell_type": "code",
      "execution_count": 11,
      "metadata": {
        "colab": {
          "base_uri": "https://localhost:8080/"
        },
        "id": "RImvdu1oM7AS",
        "outputId": "bfdf494a-44d8-45c2-fc6e-7e63ba02375f"
      },
      "outputs": [
        {
          "name": "stdout",
          "output_type": "stream",
          "text": [
            "Collecting librosa==0.7.0 (from -r requirements.txt (line 1))\n",
            "  Using cached librosa-0.7.0.tar.gz (1.6 MB)\n",
            "  Preparing metadata (setup.py) ... \u001b[?25l\u001b[?25hdone\n",
            "Collecting numpy==1.17.1 (from -r requirements.txt (line 2))\n",
            "  Using cached numpy-1.17.1.zip (6.5 MB)\n",
            "  Preparing metadata (setup.py) ... \u001b[?25l\u001b[?25hdone\n",
            "Requirement already satisfied: opencv-contrib-python>=4.2.0.34 in /usr/local/lib/python3.11/dist-packages (from -r requirements.txt (line 3)) (4.11.0.86)\n",
            "Requirement already satisfied: opencv-python in /usr/local/lib/python3.11/dist-packages (from -r requirements.txt (line 4)) (4.11.0.86)\n",
            "Requirement already satisfied: torch in /usr/local/lib/python3.11/dist-packages (from -r requirements.txt (line 5)) (2.5.1+cu124)\n",
            "Requirement already satisfied: torchvision in /usr/local/lib/python3.11/dist-packages (from -r requirements.txt (line 6)) (0.20.1+cu124)\n",
            "Requirement already satisfied: tqdm in /usr/local/lib/python3.11/dist-packages (from -r requirements.txt (line 7)) (4.67.1)\n",
            "Requirement already satisfied: numba in /usr/local/lib/python3.11/dist-packages (from -r requirements.txt (line 8)) (0.61.0)\n",
            "Requirement already satisfied: audioread>=2.0.0 in /usr/local/lib/python3.11/dist-packages (from librosa==0.7.0->-r requirements.txt (line 1)) (3.0.1)\n",
            "Requirement already satisfied: scipy>=1.0.0 in /usr/local/lib/python3.11/dist-packages (from librosa==0.7.0->-r requirements.txt (line 1)) (1.13.1)\n",
            "Requirement already satisfied: scikit-learn!=0.19.0,>=0.14.0 in /usr/local/lib/python3.11/dist-packages (from librosa==0.7.0->-r requirements.txt (line 1)) (1.6.1)\n",
            "Requirement already satisfied: joblib>=0.12 in /usr/local/lib/python3.11/dist-packages (from librosa==0.7.0->-r requirements.txt (line 1)) (1.4.2)\n",
            "Requirement already satisfied: decorator>=3.0.0 in /usr/local/lib/python3.11/dist-packages (from librosa==0.7.0->-r requirements.txt (line 1)) (4.4.2)\n",
            "Requirement already satisfied: six>=1.3 in /usr/local/lib/python3.11/dist-packages (from librosa==0.7.0->-r requirements.txt (line 1)) (1.17.0)\n",
            "Collecting resampy>=0.2.0 (from librosa==0.7.0->-r requirements.txt (line 1))\n",
            "  Downloading resampy-0.4.3-py3-none-any.whl.metadata (3.0 kB)\n",
            "Requirement already satisfied: soundfile>=0.9.0 in /usr/local/lib/python3.11/dist-packages (from librosa==0.7.0->-r requirements.txt (line 1)) (0.13.1)\n",
            "INFO: pip is looking at multiple versions of opencv-contrib-python to determine which version is compatible with other requirements. This could take a while.\n",
            "Collecting opencv-contrib-python>=4.2.0.34 (from -r requirements.txt (line 3))\n",
            "  Downloading opencv_contrib_python-4.10.0.84-cp37-abi3-manylinux_2_17_x86_64.manylinux2014_x86_64.whl.metadata (20 kB)\n",
            "  Downloading opencv_contrib_python-4.10.0.82-cp37-abi3-manylinux_2_17_x86_64.manylinux2014_x86_64.whl.metadata (20 kB)\n",
            "  Downloading opencv_contrib_python-4.9.0.80-cp37-abi3-manylinux_2_17_x86_64.manylinux2014_x86_64.whl.metadata (20 kB)\n",
            "  Downloading opencv_contrib_python-4.8.1.78-cp37-abi3-manylinux_2_17_x86_64.manylinux2014_x86_64.whl.metadata (19 kB)\n",
            "  Downloading opencv_contrib_python-4.8.0.76-cp37-abi3-manylinux_2_17_x86_64.manylinux2014_x86_64.whl.metadata (19 kB)\n",
            "  Downloading opencv_contrib_python-4.8.0.74-cp37-abi3-manylinux_2_17_x86_64.manylinux2014_x86_64.whl.metadata (19 kB)\n",
            "  Downloading opencv_contrib_python-4.7.0.72-cp37-abi3-manylinux_2_17_x86_64.manylinux2014_x86_64.whl.metadata (18 kB)\n",
            "INFO: pip is still looking at multiple versions of opencv-contrib-python to determine which version is compatible with other requirements. This could take a while.\n",
            "  Downloading opencv_contrib_python-4.7.0.68-cp37-abi3-manylinux_2_17_x86_64.manylinux2014_x86_64.whl.metadata (18 kB)\n",
            "  Downloading opencv_contrib_python-4.6.0.66-cp36-abi3-manylinux_2_17_x86_64.manylinux2014_x86_64.whl.metadata (18 kB)\n",
            "  Downloading opencv_contrib_python-4.5.5.64-cp36-abi3-manylinux_2_17_x86_64.manylinux2014_x86_64.whl.metadata (18 kB)\n",
            "  Downloading opencv_contrib_python-4.5.5.62-cp36-abi3-manylinux_2_17_x86_64.manylinux2014_x86_64.whl.metadata (18 kB)\n",
            "  Downloading opencv-contrib-python-4.5.4.60.tar.gz (150.7 MB)\n",
            "\u001b[2K     \u001b[90m━━━━━━━━━━━━━━━━━━━━━━━━━━━━━━━━━━━━━━━━\u001b[0m \u001b[32m150.7/150.7 MB\u001b[0m \u001b[31m3.7 MB/s\u001b[0m eta \u001b[36m0:00:00\u001b[0m\n",
            "\u001b[?25h  \u001b[1;31merror\u001b[0m: \u001b[1msubprocess-exited-with-error\u001b[0m\n",
            "  \n",
            "  \u001b[31m×\u001b[0m \u001b[32mpip subprocess to install build dependencies\u001b[0m did not run successfully.\n",
            "  \u001b[31m│\u001b[0m exit code: \u001b[1;36m1\u001b[0m\n",
            "  \u001b[31m╰─>\u001b[0m See above for output.\n",
            "  \n",
            "  \u001b[1;35mnote\u001b[0m: This error originates from a subprocess, and is likely not a problem with pip.\n",
            "  Installing build dependencies ... \u001b[?25l\u001b[?25herror\n",
            "\u001b[1;31merror\u001b[0m: \u001b[1msubprocess-exited-with-error\u001b[0m\n",
            "\n",
            "\u001b[31m×\u001b[0m \u001b[32mpip subprocess to install build dependencies\u001b[0m did not run successfully.\n",
            "\u001b[31m│\u001b[0m exit code: \u001b[1;36m1\u001b[0m\n",
            "\u001b[31m╰─>\u001b[0m See above for output.\n",
            "\n",
            "\u001b[1;35mnote\u001b[0m: This error originates from a subprocess, and is likely not a problem with pip.\n"
          ]
        }
      ],
      "source": [
        "!pip install -r requirements.txt"
      ]
    },
    {
      "cell_type": "code",
      "execution_count": 13,
      "metadata": {
        "colab": {
          "base_uri": "https://localhost:8080/"
        },
        "id": "xhgnzF6LNmZ1",
        "outputId": "9835471f-c4d0-43fe-f4c0-7c3ee5181d94"
      },
      "outputs": [
        {
          "name": "stdout",
          "output_type": "stream",
          "text": [
            "Collecting librosa==0.9.2\n",
            "  Downloading librosa-0.9.2-py3-none-any.whl.metadata (8.2 kB)\n",
            "Requirement already satisfied: audioread>=2.1.9 in /usr/local/lib/python3.11/dist-packages (from librosa==0.9.2) (3.0.1)\n",
            "Requirement already satisfied: numpy>=1.17.0 in /usr/local/lib/python3.11/dist-packages (from librosa==0.9.2) (1.26.4)\n",
            "Requirement already satisfied: scipy>=1.2.0 in /usr/local/lib/python3.11/dist-packages (from librosa==0.9.2) (1.13.1)\n",
            "Requirement already satisfied: scikit-learn>=0.19.1 in /usr/local/lib/python3.11/dist-packages (from librosa==0.9.2) (1.6.1)\n",
            "Requirement already satisfied: joblib>=0.14 in /usr/local/lib/python3.11/dist-packages (from librosa==0.9.2) (1.4.2)\n",
            "Requirement already satisfied: decorator>=4.0.10 in /usr/local/lib/python3.11/dist-packages (from librosa==0.9.2) (4.4.2)\n",
            "Collecting resampy>=0.2.2 (from librosa==0.9.2)\n",
            "  Downloading resampy-0.4.3-py3-none-any.whl.metadata (3.0 kB)\n",
            "Requirement already satisfied: numba>=0.45.1 in /usr/local/lib/python3.11/dist-packages (from librosa==0.9.2) (0.61.0)\n",
            "Requirement already satisfied: soundfile>=0.10.2 in /usr/local/lib/python3.11/dist-packages (from librosa==0.9.2) (0.13.1)\n",
            "Requirement already satisfied: pooch>=1.0 in /usr/local/lib/python3.11/dist-packages (from librosa==0.9.2) (1.8.2)\n",
            "Requirement already satisfied: packaging>=20.0 in /usr/local/lib/python3.11/dist-packages (from librosa==0.9.2) (24.2)\n",
            "Requirement already satisfied: llvmlite<0.45,>=0.44.0dev0 in /usr/local/lib/python3.11/dist-packages (from numba>=0.45.1->librosa==0.9.2) (0.44.0)\n",
            "Requirement already satisfied: platformdirs>=2.5.0 in /usr/local/lib/python3.11/dist-packages (from pooch>=1.0->librosa==0.9.2) (4.3.6)\n",
            "Requirement already satisfied: requests>=2.19.0 in /usr/local/lib/python3.11/dist-packages (from pooch>=1.0->librosa==0.9.2) (2.32.3)\n",
            "Requirement already satisfied: threadpoolctl>=3.1.0 in /usr/local/lib/python3.11/dist-packages (from scikit-learn>=0.19.1->librosa==0.9.2) (3.5.0)\n",
            "Requirement already satisfied: cffi>=1.0 in /usr/local/lib/python3.11/dist-packages (from soundfile>=0.10.2->librosa==0.9.2) (1.17.1)\n",
            "Requirement already satisfied: pycparser in /usr/local/lib/python3.11/dist-packages (from cffi>=1.0->soundfile>=0.10.2->librosa==0.9.2) (2.22)\n",
            "Requirement already satisfied: charset-normalizer<4,>=2 in /usr/local/lib/python3.11/dist-packages (from requests>=2.19.0->pooch>=1.0->librosa==0.9.2) (3.4.1)\n",
            "Requirement already satisfied: idna<4,>=2.5 in /usr/local/lib/python3.11/dist-packages (from requests>=2.19.0->pooch>=1.0->librosa==0.9.2) (3.10)\n",
            "Requirement already satisfied: urllib3<3,>=1.21.1 in /usr/local/lib/python3.11/dist-packages (from requests>=2.19.0->pooch>=1.0->librosa==0.9.2) (2.3.0)\n",
            "Requirement already satisfied: certifi>=2017.4.17 in /usr/local/lib/python3.11/dist-packages (from requests>=2.19.0->pooch>=1.0->librosa==0.9.2) (2025.1.31)\n",
            "Downloading librosa-0.9.2-py3-none-any.whl (214 kB)\n",
            "\u001b[2K   \u001b[90m━━━━━━━━━━━━━━━━━━━━━━━━━━━━━━━━━━━━━━━━\u001b[0m \u001b[32m214.3/214.3 kB\u001b[0m \u001b[31m40.9 MB/s\u001b[0m eta \u001b[36m0:00:00\u001b[0m\n",
            "\u001b[?25hDownloading resampy-0.4.3-py3-none-any.whl (3.1 MB)\n",
            "\u001b[2K   \u001b[90m━━━━━━━━━━━━━━━━━━━━━━━━━━━━━━━━━━━━━━━━\u001b[0m \u001b[32m3.1/3.1 MB\u001b[0m \u001b[31m213.7 MB/s\u001b[0m eta \u001b[36m0:00:00\u001b[0m\n",
            "\u001b[?25hInstalling collected packages: resampy, librosa\n",
            "  Attempting uninstall: librosa\n",
            "    Found existing installation: librosa 0.10.2.post1\n",
            "    Uninstalling librosa-0.10.2.post1:\n",
            "      Successfully uninstalled librosa-0.10.2.post1\n",
            "Successfully installed librosa-0.9.2 resampy-0.4.3\n"
          ]
        }
      ],
      "source": [
        "!pip install librosa==0.9.2 --no-cache-dir\n"
      ]
    },
    {
      "cell_type": "code",
      "execution_count": 20,
      "metadata": {
        "colab": {
          "base_uri": "https://localhost:8080/"
        },
        "id": "YYmOavcUSNtD",
        "outputId": "354b0f26-83d9-47c7-b5de-de0ad025deec"
      },
      "outputs": [
        {
          "name": "stdout",
          "output_type": "stream",
          "text": [
            "Reading package lists... Done\n",
            "Building dependency tree... Done\n",
            "Reading state information... Done\n",
            "ffmpeg is already the newest version (7:4.4.2-0ubuntu0.22.04.1).\n",
            "0 upgraded, 0 newly installed, 0 to remove and 22 not upgraded.\n"
          ]
        }
      ],
      "source": [
        "!sudo apt-get install ffmpeg"
      ]
    },
    {
      "cell_type": "code",
      "execution_count": 22,
      "metadata": {
        "colab": {
          "base_uri": "https://localhost:8080/"
        },
        "id": "0-JHVy4yRkW_",
        "outputId": "3e0b56c9-7e5d-4737-91ce-cf59ee67d167"
      },
      "outputs": [
        {
          "name": "stdout",
          "output_type": "stream",
          "text": [
            "Using cuda for inference.\n",
            "Reading video frames...\n",
            "Number of frames available for inference: 421\n",
            "Extracting raw audio...\n",
            "ffmpeg version 4.4.2-0ubuntu0.22.04.1 Copyright (c) 2000-2021 the FFmpeg developers\n",
            "  built with gcc 11 (Ubuntu 11.2.0-19ubuntu1)\n",
            "  configuration: --prefix=/usr --extra-version=0ubuntu0.22.04.1 --toolchain=hardened --libdir=/usr/lib/x86_64-linux-gnu --incdir=/usr/include/x86_64-linux-gnu --arch=amd64 --enable-gpl --disable-stripping --enable-gnutls --enable-ladspa --enable-libaom --enable-libass --enable-libbluray --enable-libbs2b --enable-libcaca --enable-libcdio --enable-libcodec2 --enable-libdav1d --enable-libflite --enable-libfontconfig --enable-libfreetype --enable-libfribidi --enable-libgme --enable-libgsm --enable-libjack --enable-libmp3lame --enable-libmysofa --enable-libopenjpeg --enable-libopenmpt --enable-libopus --enable-libpulse --enable-librabbitmq --enable-librubberband --enable-libshine --enable-libsnappy --enable-libsoxr --enable-libspeex --enable-libsrt --enable-libssh --enable-libtheora --enable-libtwolame --enable-libvidstab --enable-libvorbis --enable-libvpx --enable-libwebp --enable-libx265 --enable-libxml2 --enable-libxvid --enable-libzimg --enable-libzmq --enable-libzvbi --enable-lv2 --enable-omx --enable-openal --enable-opencl --enable-opengl --enable-sdl2 --enable-pocketsphinx --enable-librsvg --enable-libmfx --enable-libdc1394 --enable-libdrm --enable-libiec61883 --enable-chromaprint --enable-frei0r --enable-libx264 --enable-shared\n",
            "  libavutil      56. 70.100 / 56. 70.100\n",
            "  libavcodec     58.134.100 / 58.134.100\n",
            "  libavformat    58. 76.100 / 58. 76.100\n",
            "  libavdevice    58. 13.100 / 58. 13.100\n",
            "  libavfilter     7.110.100 /  7.110.100\n",
            "  libswscale      5.  9.100 /  5.  9.100\n",
            "  libswresample   3.  9.100 /  3.  9.100\n",
            "  libpostproc    55.  9.100 / 55.  9.100\n",
            "\u001b[0;35m[mp3 @ 0x5b4dd4b98100] \u001b[0m\u001b[0;33mEstimating duration from bitrate, this may be inaccurate\n",
            "\u001b[0mInput #0, mp3, from '/content/Wav2Lip/ElevenLabs_2025-02-26T04_43_39_Aria_pre_s50_sb75_se0_b_m2.mp3':\n",
            "  Duration: 00:00:41.80, start: 0.000000, bitrate: 128 kb/s\n",
            "  Stream #0:0: Audio: mp3, 44100 Hz, mono, fltp, 128 kb/s\n",
            "\u001b[1;31mtemp/temp.wav: No such file or directory\n",
            "\u001b[0m/usr/local/lib/python3.11/dist-packages/librosa/util/decorators.py:88: UserWarning: PySoundFile failed. Trying audioread instead.\n",
            "  return f(*args, **kwargs)\n",
            "Traceback (most recent call last):\n",
            "  File \"/usr/local/lib/python3.11/dist-packages/librosa/core/audio.py\", line 164, in load\n",
            "    y, sr_native = __soundfile_load(path, offset, duration, dtype)\n",
            "                   ^^^^^^^^^^^^^^^^^^^^^^^^^^^^^^^^^^^^^^^^^^^^^^^\n",
            "  File \"/usr/local/lib/python3.11/dist-packages/librosa/core/audio.py\", line 195, in __soundfile_load\n",
            "    context = sf.SoundFile(path)\n",
            "              ^^^^^^^^^^^^^^^^^^\n",
            "  File \"/usr/local/lib/python3.11/dist-packages/soundfile.py\", line 690, in __init__\n",
            "    self._file = self._open(file, mode_int, closefd)\n",
            "                 ^^^^^^^^^^^^^^^^^^^^^^^^^^^^^^^^^^^\n",
            "  File \"/usr/local/lib/python3.11/dist-packages/soundfile.py\", line 1265, in _open\n",
            "    raise LibsndfileError(err, prefix=\"Error opening {0!r}: \".format(self.name))\n",
            "soundfile.LibsndfileError: Error opening 'temp/temp.wav': System error.\n",
            "\n",
            "During handling of the above exception, another exception occurred:\n",
            "\n",
            "Traceback (most recent call last):\n",
            "  File \"/content/Wav2Lip/inference.py\", line 280, in <module>\n",
            "    main()\n",
            "  File \"/content/Wav2Lip/inference.py\", line 224, in main\n",
            "    wav = audio.load_wav(args.audio, 16000)\n",
            "          ^^^^^^^^^^^^^^^^^^^^^^^^^^^^^^^^^\n",
            "  File \"/content/Wav2Lip/audio.py\", line 10, in load_wav\n",
            "    return librosa.core.load(path, sr=sr)[0]\n",
            "           ^^^^^^^^^^^^^^^^^^^^^^^^^^^^^^\n",
            "  File \"/usr/local/lib/python3.11/dist-packages/librosa/util/decorators.py\", line 88, in inner_f\n",
            "    return f(*args, **kwargs)\n",
            "           ^^^^^^^^^^^^^^^^^^\n",
            "  File \"/usr/local/lib/python3.11/dist-packages/librosa/core/audio.py\", line 170, in load\n",
            "    y, sr_native = __audioread_load(path, offset, duration, dtype)\n",
            "                   ^^^^^^^^^^^^^^^^^^^^^^^^^^^^^^^^^^^^^^^^^^^^^^^\n",
            "  File \"/usr/local/lib/python3.11/dist-packages/librosa/core/audio.py\", line 226, in __audioread_load\n",
            "    reader = audioread.audio_open(path)\n",
            "             ^^^^^^^^^^^^^^^^^^^^^^^^^^\n",
            "  File \"/usr/local/lib/python3.11/dist-packages/audioread/__init__.py\", line 127, in audio_open\n",
            "    return BackendClass(path)\n",
            "           ^^^^^^^^^^^^^^^^^^\n",
            "  File \"/usr/local/lib/python3.11/dist-packages/audioread/rawread.py\", line 59, in __init__\n",
            "    self._fh = open(filename, 'rb')\n",
            "               ^^^^^^^^^^^^^^^^^^^^\n",
            "FileNotFoundError: [Errno 2] No such file or directory: 'temp/temp.wav'\n"
          ]
        }
      ],
      "source": [
        "!python /content/Wav2Lip/inference.py --checkpoint_path /content/Wav2Lip/checkpoints/wav2lip_gan.pth --face \"/content/Wav2Lip/Untitled design.mp4\" --audio \"/content/Wav2Lip/ElevenLabs_2025-02-26T04_43_39_Aria_pre_s50_sb75_se0_b_m2.mp3\""
      ]
    },
    {
      "cell_type": "code",
      "execution_count": 23,
      "metadata": {
        "colab": {
          "base_uri": "https://localhost:8080/"
        },
        "id": "YXlcyFDjSAtU",
        "outputId": "c44921a4-10e6-48bc-b9f5-fbb1d982caf9"
      },
      "outputs": [
        {
          "name": "stdout",
          "output_type": "stream",
          "text": [
            "Using cuda for inference.\n",
            "Reading video frames...\n",
            "Number of frames available for inference: 421\n",
            "/usr/local/lib/python3.11/dist-packages/librosa/util/decorators.py:88: UserWarning: PySoundFile failed. Trying audioread instead.\n",
            "  return f(*args, **kwargs)\n",
            "Traceback (most recent call last):\n",
            "  File \"/usr/local/lib/python3.11/dist-packages/librosa/core/audio.py\", line 164, in load\n",
            "    y, sr_native = __soundfile_load(path, offset, duration, dtype)\n",
            "                   ^^^^^^^^^^^^^^^^^^^^^^^^^^^^^^^^^^^^^^^^^^^^^^^\n",
            "  File \"/usr/local/lib/python3.11/dist-packages/librosa/core/audio.py\", line 195, in __soundfile_load\n",
            "    context = sf.SoundFile(path)\n",
            "              ^^^^^^^^^^^^^^^^^^\n",
            "  File \"/usr/local/lib/python3.11/dist-packages/soundfile.py\", line 690, in __init__\n",
            "    self._file = self._open(file, mode_int, closefd)\n",
            "                 ^^^^^^^^^^^^^^^^^^^^^^^^^^^^^^^^^^^\n",
            "  File \"/usr/local/lib/python3.11/dist-packages/soundfile.py\", line 1265, in _open\n",
            "    raise LibsndfileError(err, prefix=\"Error opening {0!r}: \".format(self.name))\n",
            "soundfile.LibsndfileError: Error opening '/content/Wav2Lip/audio.wav': System error.\n",
            "\n",
            "During handling of the above exception, another exception occurred:\n",
            "\n",
            "Traceback (most recent call last):\n",
            "  File \"/content/Wav2Lip/inference.py\", line 280, in <module>\n",
            "    main()\n",
            "  File \"/content/Wav2Lip/inference.py\", line 224, in main\n",
            "    wav = audio.load_wav(args.audio, 16000)\n",
            "          ^^^^^^^^^^^^^^^^^^^^^^^^^^^^^^^^^\n",
            "  File \"/content/Wav2Lip/audio.py\", line 10, in load_wav\n",
            "    return librosa.core.load(path, sr=sr)[0]\n",
            "           ^^^^^^^^^^^^^^^^^^^^^^^^^^^^^^\n",
            "  File \"/usr/local/lib/python3.11/dist-packages/librosa/util/decorators.py\", line 88, in inner_f\n",
            "    return f(*args, **kwargs)\n",
            "           ^^^^^^^^^^^^^^^^^^\n",
            "  File \"/usr/local/lib/python3.11/dist-packages/librosa/core/audio.py\", line 170, in load\n",
            "    y, sr_native = __audioread_load(path, offset, duration, dtype)\n",
            "                   ^^^^^^^^^^^^^^^^^^^^^^^^^^^^^^^^^^^^^^^^^^^^^^^\n",
            "  File \"/usr/local/lib/python3.11/dist-packages/librosa/core/audio.py\", line 226, in __audioread_load\n",
            "    reader = audioread.audio_open(path)\n",
            "             ^^^^^^^^^^^^^^^^^^^^^^^^^^\n",
            "  File \"/usr/local/lib/python3.11/dist-packages/audioread/__init__.py\", line 127, in audio_open\n",
            "    return BackendClass(path)\n",
            "           ^^^^^^^^^^^^^^^^^^\n",
            "  File \"/usr/local/lib/python3.11/dist-packages/audioread/rawread.py\", line 59, in __init__\n",
            "    self._fh = open(filename, 'rb')\n",
            "               ^^^^^^^^^^^^^^^^^^^^\n",
            "FileNotFoundError: [Errno 2] No such file or directory: '/content/Wav2Lip/audio.wav'\n"
          ]
        }
      ],
      "source": [
        "!python /content/Wav2Lip/inference.py --checkpoint_path /content/Wav2Lip/checkpoints/wav2lip_gan.pth --face \"/content/Wav2Lip/Untitled design.mp4\" --audio \"/content/Wav2Lip/audio.wav\"\n"
      ]
    },
    {
      "cell_type": "code",
      "execution_count": 25,
      "metadata": {
        "colab": {
          "base_uri": "https://localhost:8080/"
        },
        "id": "OB_L5KQpSgek",
        "outputId": "8e487e48-37b5-4d6c-870e-cbbef89fb591"
      },
      "outputs": [
        {
          "name": "stdout",
          "output_type": "stream",
          "text": [
            "\u001b[0m\u001b[01;36mbin\u001b[0m@                        \u001b[01;34mdev\u001b[0m/     \u001b[01;36mlib32\u001b[0m@   NGC-DL-CONTAINER-LICENSE  \u001b[01;34mroot\u001b[0m/  \u001b[30;42mtmp\u001b[0m/\n",
            "\u001b[01;34mboot\u001b[0m/                       \u001b[01;34metc\u001b[0m/     \u001b[01;36mlib64\u001b[0m@   \u001b[01;34mopt\u001b[0m/                      \u001b[01;34mrun\u001b[0m/   \u001b[01;34mtools\u001b[0m/\n",
            "\u001b[01;34mcontent\u001b[0m/                    \u001b[01;34mhome\u001b[0m/    \u001b[01;36mlibx32\u001b[0m@  \u001b[01;34mproc\u001b[0m/                     \u001b[01;36msbin\u001b[0m@  \u001b[01;34musr\u001b[0m/\n",
            "cuda-keyring_1.1-1_all.deb  \u001b[01;34mkaggle\u001b[0m/  \u001b[01;34mmedia\u001b[0m/   \u001b[01;34mpython-apt\u001b[0m/               \u001b[01;34msrv\u001b[0m/   \u001b[01;34mvar\u001b[0m/\n",
            "\u001b[01;34mdatalab\u001b[0m/                    \u001b[01;36mlib\u001b[0m@     \u001b[01;34mmnt\u001b[0m/     \u001b[01;32mpython-apt.tar.xz\u001b[0m*        \u001b[01;34msys\u001b[0m/\n"
          ]
        }
      ],
      "source": [
        "%ls"
      ]
    },
    {
      "cell_type": "code",
      "execution_count": 27,
      "metadata": {
        "colab": {
          "base_uri": "https://localhost:8080/"
        },
        "id": "ka_B8og9S2EC",
        "outputId": "d99cc027-623b-4acc-f5d3-fe4d74e454ff"
      },
      "outputs": [
        {
          "name": "stdout",
          "output_type": "stream",
          "text": [
            "/content\n"
          ]
        }
      ],
      "source": [
        "cd content/\n"
      ]
    },
    {
      "cell_type": "code",
      "execution_count": 35,
      "metadata": {
        "colab": {
          "base_uri": "https://localhost:8080/"
        },
        "id": "17XxBXF8S6kf",
        "outputId": "fa80f45d-4450-450c-ddb2-942062a3bd9c"
      },
      "outputs": [
        {
          "name": "stdout",
          "output_type": "stream",
          "text": [
            "[Errno 2] No such file or directory: 'Wav2Lip'\n",
            "/root\n"
          ]
        }
      ],
      "source": [
        "cd Wav2Lip"
      ]
    },
    {
      "cell_type": "code",
      "execution_count": 36,
      "metadata": {
        "colab": {
          "base_uri": "https://localhost:8080/"
        },
        "id": "CH6Q96MrUHzW",
        "outputId": "acd5546f-1ffe-49cc-d6c6-ef55221bc0a7"
      },
      "outputs": [
        {
          "name": "stdout",
          "output_type": "stream",
          "text": [
            "/content/Wav2Lip\n"
          ]
        }
      ],
      "source": [
        "cd /content/Wav2Lip"
      ]
    },
    {
      "cell_type": "code",
      "execution_count": 38,
      "metadata": {
        "colab": {
          "base_uri": "https://localhost:8080/"
        },
        "id": "b2nEzzYZS-_t",
        "outputId": "1c5ad790-0f9b-412b-e312-d156e7df290b"
      },
      "outputs": [
        {
          "name": "stdout",
          "output_type": "stream",
          "text": [
            "Using cuda for inference.\n",
            "Reading video frames...\n",
            "Number of frames available for inference: 421\n",
            "/content/Wav2Lip/audio.py:100: FutureWarning: Pass sr=16000, n_fft=800 as keyword args. From version 0.10 passing these as positional arguments will result in an error\n",
            "  return librosa.filters.mel(hp.sample_rate, hp.n_fft, n_mels=hp.num_mels,\n",
            "(80, 3344)\n",
            "Length of mel chunks: 1250\n",
            "  0% 0/10 [00:00<?, ?it/s]\n",
            "  0% 0/27 [00:10<?, ?it/s]\n",
            "Recovering from OOM error; New batch size: 8\n",
            "\n",
            "  0% 0/53 [00:00<?, ?it/s]\u001b[A\n",
            "  2% 1/53 [03:20<2:53:30, 200.20s/it]\u001b[A\n",
            "  4% 2/53 [03:23<1:11:46, 84.45s/it] \u001b[A\n",
            "  6% 3/53 [03:26<39:25, 47.31s/it]  \u001b[A\n",
            "  8% 4/53 [03:29<24:23, 29.86s/it]\u001b[A\n",
            "  9% 5/53 [03:33<16:11, 20.23s/it]\u001b[A\n",
            " 11% 6/53 [03:36<11:22, 14.51s/it]\u001b[A\n",
            " 13% 7/53 [03:39<08:16, 10.79s/it]\u001b[A\n",
            " 15% 8/53 [03:42<06:15,  8.35s/it]\u001b[A\n",
            " 17% 9/53 [03:45<04:56,  6.74s/it]\u001b[A\n",
            " 19% 10/53 [03:49<04:03,  5.65s/it]\u001b[A\n",
            " 21% 11/53 [03:52<03:25,  4.88s/it]\u001b[A\n",
            " 23% 12/53 [03:55<02:58,  4.35s/it]\u001b[A\n",
            " 25% 13/53 [03:58<02:39,  3.98s/it]\u001b[A\n",
            " 26% 14/53 [04:01<02:25,  3.73s/it]\u001b[A\n",
            " 28% 15/53 [04:04<02:15,  3.55s/it]\u001b[A\n",
            " 30% 16/53 [04:07<02:06,  3.42s/it]\u001b[A\n",
            " 32% 17/53 [04:11<02:01,  3.37s/it]\u001b[A\n",
            " 34% 18/53 [04:14<01:55,  3.30s/it]\u001b[A\n",
            " 36% 19/53 [04:17<01:50,  3.24s/it]\u001b[A\n",
            " 38% 20/53 [04:20<01:46,  3.23s/it]\u001b[A\n",
            " 40% 21/53 [04:24<01:45,  3.29s/it]\u001b[A\n",
            " 42% 22/53 [04:27<01:40,  3.24s/it]\u001b[A\n",
            " 43% 23/53 [04:30<01:36,  3.21s/it]\u001b[A\n",
            " 45% 24/53 [04:33<01:32,  3.19s/it]\u001b[A\n",
            " 47% 25/53 [04:36<01:31,  3.26s/it]\u001b[A\n",
            " 49% 26/53 [04:39<01:26,  3.22s/it]\u001b[A\n",
            " 51% 27/53 [04:43<01:22,  3.19s/it]\u001b[A\n",
            " 53% 28/53 [04:46<01:19,  3.18s/it]\u001b[A\n",
            " 55% 29/53 [04:49<01:17,  3.21s/it]\u001b[A\n",
            " 57% 30/53 [04:52<01:13,  3.18s/it]\u001b[A\n",
            " 58% 31/53 [04:55<01:09,  3.16s/it]\u001b[A\n",
            " 60% 32/53 [04:58<01:06,  3.15s/it]\u001b[A\n",
            " 62% 33/53 [05:02<01:02,  3.14s/it]\u001b[A\n",
            " 64% 34/53 [05:05<00:59,  3.14s/it]\u001b[A\n",
            " 66% 35/53 [05:08<00:56,  3.14s/it]\u001b[A\n",
            " 68% 36/53 [05:11<00:53,  3.16s/it]\u001b[A\n",
            " 70% 37/53 [05:14<00:50,  3.15s/it]\u001b[A\n",
            " 72% 38/53 [05:17<00:47,  3.15s/it]\u001b[A\n",
            " 74% 39/53 [05:21<00:44,  3.18s/it]\u001b[A\n",
            " 75% 40/53 [05:24<00:42,  3.25s/it]\u001b[A\n",
            " 77% 41/53 [05:27<00:38,  3.21s/it]\u001b[A\n",
            " 79% 42/53 [05:30<00:35,  3.19s/it]\u001b[A\n",
            " 81% 43/53 [05:33<00:31,  3.18s/it]\u001b[A\n",
            " 83% 44/53 [05:37<00:29,  3.26s/it]\u001b[A\n",
            " 85% 45/53 [05:40<00:25,  3.22s/it]\u001b[A\n",
            " 87% 46/53 [05:43<00:22,  3.20s/it]\u001b[A\n",
            " 89% 47/53 [05:46<00:19,  3.20s/it]\u001b[A\n",
            " 91% 48/53 [05:50<00:16,  3.25s/it]\u001b[A\n",
            " 92% 49/53 [05:53<00:12,  3.22s/it]\u001b[A\n",
            " 94% 50/53 [05:56<00:09,  3.19s/it]\u001b[A\n",
            " 96% 51/53 [05:59<00:06,  3.19s/it]\u001b[A\n",
            " 98% 52/53 [06:02<00:03,  3.17s/it]\u001b[A\n",
            "100% 53/53 [06:34<00:00,  7.44s/it]\n",
            "Load checkpoint from: /checkpoints/wav2lip_gan.pth\n",
            "/content/Wav2Lip/inference.py:162: FutureWarning: You are using `torch.load` with `weights_only=False` (the current default value), which uses the default pickle module implicitly. It is possible to construct malicious pickle data which will execute arbitrary code during unpickling (See https://github.com/pytorch/pytorch/blob/main/SECURITY.md#untrusted-models for more details). In a future release, the default value for `weights_only` will be flipped to `True`. This limits the functions that could be executed during unpickling. Arbitrary objects will no longer be allowed to be loaded via this mode unless they are explicitly allowlisted by the user via `torch.serialization.add_safe_globals`. We recommend you start setting `weights_only=True` for any use case where you don't have full control of the loaded file. Please open an issue on GitHub for any issues related to this experimental feature.\n",
            "  checkpoint = torch.load(checkpoint_path)\n",
            "  0% 0/10 [06:46<?, ?it/s]\n",
            "Traceback (most recent call last):\n",
            "  File \"/content/Wav2Lip/inference.py\", line 280, in <module>\n",
            "    main()\n",
            "  File \"/content/Wav2Lip/inference.py\", line 252, in main\n",
            "    model = load_model(args.checkpoint_path)\n",
            "            ^^^^^^^^^^^^^^^^^^^^^^^^^^^^^^^^\n",
            "  File \"/content/Wav2Lip/inference.py\", line 171, in load_model\n",
            "    checkpoint = _load(path)\n",
            "                 ^^^^^^^^^^^\n",
            "  File \"/content/Wav2Lip/inference.py\", line 162, in _load\n",
            "    checkpoint = torch.load(checkpoint_path)\n",
            "                 ^^^^^^^^^^^^^^^^^^^^^^^^^^^\n",
            "  File \"/usr/local/lib/python3.11/dist-packages/torch/serialization.py\", line 1319, in load\n",
            "    with _open_file_like(f, \"rb\") as opened_file:\n",
            "         ^^^^^^^^^^^^^^^^^^^^^^^^\n",
            "  File \"/usr/local/lib/python3.11/dist-packages/torch/serialization.py\", line 659, in _open_file_like\n",
            "    return _open_file(name_or_buffer, mode)\n",
            "           ^^^^^^^^^^^^^^^^^^^^^^^^^^^^^^^^\n",
            "  File \"/usr/local/lib/python3.11/dist-packages/torch/serialization.py\", line 640, in __init__\n",
            "    super().__init__(open(name, mode))\n",
            "                     ^^^^^^^^^^^^^^^^\n",
            "FileNotFoundError: [Errno 2] No such file or directory: '/checkpoints/wav2lip_gan.pth'\n"
          ]
        }
      ],
      "source": [
        "!python inference.py --checkpoint_path /checkpoints/wav2lip_gan.pth --face \"Untitled design.mp4\" --audio \"/content/Wav2Lip/ElevenLabs_2025-02-26T04_43_39_Aria_pre_s50_sb75_se0_b_m2.wav\"\n"
      ]
    },
    {
      "cell_type": "code",
      "execution_count": 40,
      "metadata": {
        "colab": {
          "base_uri": "https://localhost:8080/"
        },
        "id": "NDQVQM7kTBUI",
        "outputId": "15c3ac42-80e0-434e-de99-2c50ad799144"
      },
      "outputs": [
        {
          "name": "stdout",
          "output_type": "stream",
          "text": [
            "Using cuda for inference.\n",
            "Reading video frames...\n",
            "Number of frames available for inference: 421\n",
            "/content/Wav2Lip/audio.py:100: FutureWarning: Pass sr=16000, n_fft=800 as keyword args. From version 0.10 passing these as positional arguments will result in an error\n",
            "  return librosa.filters.mel(hp.sample_rate, hp.n_fft, n_mels=hp.num_mels,\n",
            "(80, 3344)\n",
            "Length of mel chunks: 1250\n",
            "  0% 0/10 [00:00<?, ?it/s]\n",
            "  0% 0/27 [00:10<?, ?it/s]\n",
            "Recovering from OOM error; New batch size: 8\n",
            "\n",
            "  0% 0/53 [00:00<?, ?it/s]\u001b[A\n",
            "  2% 1/53 [03:29<3:01:53, 209.87s/it]\u001b[A\n",
            "  4% 2/53 [03:33<1:15:01, 88.27s/it] \u001b[A\n",
            "  6% 3/53 [03:36<41:10, 49.41s/it]  \u001b[A\n",
            "  8% 4/53 [03:39<25:31, 31.26s/it]\u001b[A\n",
            "  9% 5/53 [03:42<16:53, 21.11s/it]\u001b[A\n",
            " 11% 6/53 [03:45<11:44, 14.99s/it]\u001b[A\n",
            " 13% 7/53 [03:49<08:32, 11.14s/it]\u001b[A\n",
            " 15% 8/53 [03:52<06:29,  8.65s/it]\u001b[A\n",
            " 17% 9/53 [03:55<05:04,  6.92s/it]\u001b[A\n",
            " 19% 10/53 [03:58<04:07,  5.75s/it]\u001b[A\n",
            " 21% 11/53 [04:01<03:27,  4.95s/it]\u001b[A\n",
            " 23% 12/53 [04:04<03:00,  4.40s/it]\u001b[A\n",
            " 25% 13/53 [04:08<02:40,  4.02s/it]\u001b[A\n",
            " 26% 14/53 [04:11<02:26,  3.75s/it]\u001b[A\n",
            " 28% 15/53 [04:14<02:16,  3.58s/it]\u001b[A\n",
            " 30% 16/53 [04:17<02:07,  3.45s/it]\u001b[A\n",
            " 32% 17/53 [04:20<02:00,  3.36s/it]\u001b[A\n",
            " 34% 18/53 [04:23<01:55,  3.30s/it]\u001b[A\n",
            " 36% 19/53 [04:27<01:53,  3.34s/it]\u001b[A\n",
            " 38% 20/53 [04:30<01:48,  3.29s/it]\u001b[A\n",
            " 40% 21/53 [04:33<01:43,  3.24s/it]\u001b[A\n",
            " 42% 22/53 [04:36<01:39,  3.22s/it]\u001b[A\n",
            " 43% 23/53 [04:40<01:39,  3.30s/it]\u001b[A\n",
            " 45% 24/53 [04:43<01:34,  3.25s/it]\u001b[A\n",
            " 47% 25/53 [04:46<01:29,  3.21s/it]\u001b[A\n",
            " 49% 26/53 [04:49<01:26,  3.21s/it]\u001b[A\n",
            " 51% 27/53 [04:52<01:23,  3.23s/it]\u001b[A\n",
            " 53% 28/53 [04:56<01:19,  3.20s/it]\u001b[A\n",
            " 55% 29/53 [04:59<01:16,  3.17s/it]\u001b[A\n",
            " 57% 30/53 [05:02<01:12,  3.16s/it]\u001b[A\n",
            " 58% 31/53 [05:05<01:09,  3.14s/it]\u001b[A\n",
            " 60% 32/53 [05:08<01:05,  3.14s/it]\u001b[A\n",
            " 62% 33/53 [05:11<01:02,  3.14s/it]\u001b[A\n",
            " 64% 34/53 [05:14<00:59,  3.14s/it]\u001b[A\n",
            " 66% 35/53 [05:17<00:56,  3.13s/it]\u001b[A\n",
            " 68% 36/53 [05:21<00:53,  3.14s/it]\u001b[A\n",
            " 70% 37/53 [05:24<00:50,  3.14s/it]\u001b[A\n",
            " 72% 38/53 [05:27<00:48,  3.21s/it]\u001b[A\n",
            " 74% 39/53 [05:30<00:44,  3.19s/it]\u001b[A\n",
            " 75% 40/53 [05:33<00:41,  3.17s/it]\u001b[A\n",
            " 77% 41/53 [05:37<00:37,  3.17s/it]\u001b[A\n",
            " 79% 42/53 [05:40<00:35,  3.24s/it]\u001b[A\n",
            " 81% 43/53 [05:43<00:32,  3.21s/it]\u001b[A\n",
            " 83% 44/53 [05:46<00:28,  3.18s/it]\u001b[A\n",
            " 85% 45/53 [05:49<00:25,  3.20s/it]\u001b[A\n",
            " 87% 46/53 [05:53<00:22,  3.25s/it]\u001b[A\n",
            " 89% 47/53 [05:56<00:19,  3.21s/it]\u001b[A\n",
            " 91% 48/53 [05:59<00:15,  3.18s/it]\u001b[A\n",
            " 92% 49/53 [06:02<00:12,  3.18s/it]\u001b[A\n",
            " 94% 50/53 [06:06<00:09,  3.28s/it]\u001b[A\n",
            " 96% 51/53 [06:09<00:06,  3.24s/it]\u001b[A\n",
            " 98% 52/53 [06:12<00:03,  3.20s/it]\u001b[A\n",
            "100% 53/53 [06:43<00:00,  7.62s/it]\n",
            "Load checkpoint from: /content/Wav2Lip/checkpoints/wav2lip_gan.pth\n",
            "/content/Wav2Lip/inference.py:162: FutureWarning: You are using `torch.load` with `weights_only=False` (the current default value), which uses the default pickle module implicitly. It is possible to construct malicious pickle data which will execute arbitrary code during unpickling (See https://github.com/pytorch/pytorch/blob/main/SECURITY.md#untrusted-models for more details). In a future release, the default value for `weights_only` will be flipped to `True`. This limits the functions that could be executed during unpickling. Arbitrary objects will no longer be allowed to be loaded via this mode unless they are explicitly allowlisted by the user via `torch.serialization.add_safe_globals`. We recommend you start setting `weights_only=True` for any use case where you don't have full control of the loaded file. Please open an issue on GitHub for any issues related to this experimental feature.\n",
            "  checkpoint = torch.load(checkpoint_path)\n",
            "Model loaded\n",
            "100% 10/10 [07:41<00:00, 46.12s/it]\n",
            "ffmpeg version 4.4.2-0ubuntu0.22.04.1 Copyright (c) 2000-2021 the FFmpeg developers\n",
            "  built with gcc 11 (Ubuntu 11.2.0-19ubuntu1)\n",
            "  configuration: --prefix=/usr --extra-version=0ubuntu0.22.04.1 --toolchain=hardened --libdir=/usr/lib/x86_64-linux-gnu --incdir=/usr/include/x86_64-linux-gnu --arch=amd64 --enable-gpl --disable-stripping --enable-gnutls --enable-ladspa --enable-libaom --enable-libass --enable-libbluray --enable-libbs2b --enable-libcaca --enable-libcdio --enable-libcodec2 --enable-libdav1d --enable-libflite --enable-libfontconfig --enable-libfreetype --enable-libfribidi --enable-libgme --enable-libgsm --enable-libjack --enable-libmp3lame --enable-libmysofa --enable-libopenjpeg --enable-libopenmpt --enable-libopus --enable-libpulse --enable-librabbitmq --enable-librubberband --enable-libshine --enable-libsnappy --enable-libsoxr --enable-libspeex --enable-libsrt --enable-libssh --enable-libtheora --enable-libtwolame --enable-libvidstab --enable-libvorbis --enable-libvpx --enable-libwebp --enable-libx265 --enable-libxml2 --enable-libxvid --enable-libzimg --enable-libzmq --enable-libzvbi --enable-lv2 --enable-omx --enable-openal --enable-opencl --enable-opengl --enable-sdl2 --enable-pocketsphinx --enable-librsvg --enable-libmfx --enable-libdc1394 --enable-libdrm --enable-libiec61883 --enable-chromaprint --enable-frei0r --enable-libx264 --enable-shared\n",
            "  libavutil      56. 70.100 / 56. 70.100\n",
            "  libavcodec     58.134.100 / 58.134.100\n",
            "  libavformat    58. 76.100 / 58. 76.100\n",
            "  libavdevice    58. 13.100 / 58. 13.100\n",
            "  libavfilter     7.110.100 /  7.110.100\n",
            "  libswscale      5.  9.100 /  5.  9.100\n",
            "  libswresample   3.  9.100 /  3.  9.100\n",
            "  libpostproc    55.  9.100 / 55.  9.100\n",
            "\u001b[0;33mGuessed Channel Layout for Input Stream #0.0 : mono\n",
            "\u001b[0mInput #0, wav, from '/content/Wav2Lip/ElevenLabs_2025-02-26T04_43_39_Aria_pre_s50_sb75_se0_b_m2.wav':\n",
            "  Metadata:\n",
            "    encoder         : Lavf60.16.100\n",
            "  Duration: 00:00:41.80, bitrate: 705 kb/s\n",
            "  Stream #0:0: Audio: pcm_s16le ([1][0][0][0] / 0x0001), 44100 Hz, mono, s16, 705 kb/s\n",
            "Input #1, avi, from 'temp/result.avi':\n",
            "  Metadata:\n",
            "    software        : Lavf59.27.100\n",
            "  Duration: 00:00:41.67, start: 0.000000, bitrate: 1713 kb/s\n",
            "  Stream #1:0: Video: mpeg4 (Simple Profile) (DIVX / 0x58564944), yuv420p, 1080x1920 [SAR 1:1 DAR 9:16], 1706 kb/s, 30 fps, 30 tbr, 30 tbn, 30 tbc\n",
            "Stream mapping:\n",
            "  Stream #1:0 -> #0:0 (mpeg4 (native) -> h264 (libx264))\n",
            "  Stream #0:0 -> #0:1 (pcm_s16le (native) -> aac (native))\n",
            "Press [q] to stop, [?] for help\n",
            "\u001b[1;36m[libx264 @ 0x5a224b3bc740] \u001b[0m\u001b[0;33m-qscale is ignored, -crf is recommended.\n",
            "\u001b[0m\u001b[1;36m[libx264 @ 0x5a224b3bc740] \u001b[0musing SAR=1/1\n",
            "\u001b[1;36m[libx264 @ 0x5a224b3bc740] \u001b[0musing cpu capabilities: MMX2 SSE2Fast SSSE3 SSE4.2 AVX FMA3 BMI2 AVX2 AVX512\n",
            "\u001b[1;36m[libx264 @ 0x5a224b3bc740] \u001b[0mprofile High, level 4.0, 4:2:0, 8-bit\n",
            "\u001b[1;36m[libx264 @ 0x5a224b3bc740] \u001b[0m264 - core 163 r3060 5db6aa6 - H.264/MPEG-4 AVC codec - Copyleft 2003-2021 - http://www.videolan.org/x264.html - options: cabac=1 ref=3 deblock=1:0:0 analyse=0x3:0x113 me=hex subme=7 psy=1 psy_rd=1.00:0.00 mixed_ref=1 me_range=16 chroma_me=1 trellis=1 8x8dct=1 cqm=0 deadzone=21,11 fast_pskip=1 chroma_qp_offset=-2 threads=3 lookahead_threads=1 sliced_threads=0 nr=0 decimate=1 interlaced=0 bluray_compat=0 constrained_intra=0 bframes=3 b_pyramid=2 b_adapt=1 b_bias=0 direct=1 weightb=1 open_gop=0 weightp=2 keyint=250 keyint_min=25 scenecut=40 intra_refresh=0 rc_lookahead=40 rc=crf mbtree=1 crf=23.0 qcomp=0.60 qpmin=0 qpmax=69 qpstep=4 ip_ratio=1.40 aq=1:1.00\n",
            "Output #0, mp4, to 'results/result_voice.mp4':\n",
            "  Metadata:\n",
            "    encoder         : Lavf58.76.100\n",
            "  Stream #0:0: Video: h264 (avc1 / 0x31637661), yuv420p(progressive), 1080x1920 [SAR 1:1 DAR 9:16], q=2-31, 30 fps, 15360 tbn\n",
            "    Metadata:\n",
            "      encoder         : Lavc58.134.100 libx264\n",
            "    Side data:\n",
            "      cpb: bitrate max/min/avg: 0/0/0 buffer size: 0 vbv_delay: N/A\n",
            "  Stream #0:1: Audio: aac (LC) (mp4a / 0x6134706D), 44100 Hz, mono, fltp, 69 kb/s\n",
            "    Metadata:\n",
            "      encoder         : Lavc58.134.100 aac\n",
            "frame= 1250 fps= 26 q=-1.0 Lsize=    1976kB time=00:00:41.77 bitrate= 387.6kbits/s speed=0.883x    \n",
            "video:1574kB audio:356kB subtitle:0kB other streams:0kB global headers:0kB muxing overhead: 2.361030%\n",
            "\u001b[1;36m[libx264 @ 0x5a224b3bc740] \u001b[0mframe I:5     Avg QP:13.21  size: 65142\n",
            "\u001b[1;36m[libx264 @ 0x5a224b3bc740] \u001b[0mframe P:315   Avg QP:15.97  size:  1969\n",
            "\u001b[1;36m[libx264 @ 0x5a224b3bc740] \u001b[0mframe B:930   Avg QP:23.53  size:   716\n",
            "\u001b[1;36m[libx264 @ 0x5a224b3bc740] \u001b[0mconsecutive B-frames:  0.8%  0.0%  0.0% 99.2%\n",
            "\u001b[1;36m[libx264 @ 0x5a224b3bc740] \u001b[0mmb I  I16..4: 22.3% 67.9%  9.8%\n",
            "\u001b[1;36m[libx264 @ 0x5a224b3bc740] \u001b[0mmb P  I16..4:  0.3%  1.8%  0.0%  P16..4:  5.5%  0.8%  0.3%  0.0%  0.0%    skip:91.3%\n",
            "\u001b[1;36m[libx264 @ 0x5a224b3bc740] \u001b[0mmb B  I16..4:  0.1%  0.2%  0.0%  B16..8:  7.4%  0.1%  0.0%  direct: 0.0%  skip:92.1%  L0:51.8% L1:47.8% BI: 0.3%\n",
            "\u001b[1;36m[libx264 @ 0x5a224b3bc740] \u001b[0m8x8 transform intra:73.4% inter:90.8%\n",
            "\u001b[1;36m[libx264 @ 0x5a224b3bc740] \u001b[0mcoded y,uvDC,uvAC intra: 25.0% 18.4% 7.1% inter: 0.2% 0.4% 0.0%\n",
            "\u001b[1;36m[libx264 @ 0x5a224b3bc740] \u001b[0mi16 v,h,dc,p: 75%  8% 12%  4%\n",
            "\u001b[1;36m[libx264 @ 0x5a224b3bc740] \u001b[0mi8 v,h,dc,ddl,ddr,vr,hd,vl,hu: 38% 13% 44%  2%  1%  1%  1%  1%  1%\n",
            "\u001b[1;36m[libx264 @ 0x5a224b3bc740] \u001b[0mi4 v,h,dc,ddl,ddr,vr,hd,vl,hu: 63% 20%  7%  2%  2%  2%  2%  1%  1%\n",
            "\u001b[1;36m[libx264 @ 0x5a224b3bc740] \u001b[0mi8c dc,h,v,p: 60% 11% 27%  2%\n",
            "\u001b[1;36m[libx264 @ 0x5a224b3bc740] \u001b[0mWeighted P-Frames: Y:0.0% UV:0.0%\n",
            "\u001b[1;36m[libx264 @ 0x5a224b3bc740] \u001b[0mref P L0: 49.9%  2.5% 36.7% 10.9%\n",
            "\u001b[1;36m[libx264 @ 0x5a224b3bc740] \u001b[0mref B L0: 67.4% 30.9%  1.7%\n",
            "\u001b[1;36m[libx264 @ 0x5a224b3bc740] \u001b[0mref B L1: 95.4%  4.6%\n",
            "\u001b[1;36m[libx264 @ 0x5a224b3bc740] \u001b[0mkb/s:309.38\n",
            "\u001b[1;36m[aac @ 0x5a224b3be880] \u001b[0mQavg: 226.408\n"
          ]
        }
      ],
      "source": [
        "!python inference.py --checkpoint_path /content/Wav2Lip/checkpoints/wav2lip_gan.pth --face \"Untitled design.mp4\" --audio \"/content/Wav2Lip/ElevenLabs_2025-02-26T04_43_39_Aria_pre_s50_sb75_se0_b_m2.wav\"\n"
      ]
    },
    {
      "cell_type": "code",
      "execution_count": 39,
      "metadata": {
        "id": "OOwl8UYhWhdf"
      },
      "outputs": [],
      "source": []
    }
  ],
  "metadata": {
    "accelerator": "GPU",
    "colab": {
      "gpuType": "T4",
      "provenance": []
    },
    "kernelspec": {
      "display_name": "Python 3",
      "name": "python3"
    },
    "language_info": {
      "name": "python"
    }
  },
  "nbformat": 4,
  "nbformat_minor": 0
}
